{
 "cells": [
  {
   "cell_type": "code",
   "execution_count": 13,
   "id": "9e7dcec0-1afc-4e44-87da-882a24762404",
   "metadata": {},
   "outputs": [],
   "source": [
    "setwd(\"/data/home/stoecker/fdi_plantpathologycoop_mount/cbi_ipoolseq_transposon/ipoolseq-pipeline/notebooks/\")\n",
    "\n",
    "#pseudo snakemake variables added here \n",
    "snakemake_params_exp = \"Exp1\"\n",
    "snakemake_params_dir = \"Transposon.v2\"\n",
    "snakemake_params_version = \"0.2\"\n",
    "snakemake_input_ann = \"../cfg/Transposon.v2/annotation.gff3.gz\"\n",
    "snakemake_input_essential = \"../cfg/Transposon.v2/essential.tab\""
   ]
  },
  {
   "cell_type": "code",
   "execution_count": 6,
   "id": "1003c621-441a-41f8-8c04-90a71e1e1949",
   "metadata": {},
   "outputs": [],
   "source": [
    "# Set \"eval=TRUE\" above to run this chunk interactively in R Studio,\n",
    "# and adjust the input and output files to point to the sample you\n",
    "# want to test with\n",
    "#design <- \"Transposon\"\n",
    "#replicate <- \"r77647\"\n",
    "\n",
    "design <- snakemake_params_dir\n",
    "replicate <- snakemake_params_exp\n",
    "\n",
    "setClass(\"SnakemakeStub\", representation(input = \"list\", params = \"list\", output = \"list\"))\n",
    "snakemake <- new(\"SnakemakeStub\",\n",
    "                 input=list(ann=paste(\"..\", \"cfg\", design, \"annotation.gff3.gz\", sep=\"/\"),\n",
    "                            essential=paste(\"..\", \"cfg\", design, \"essential.tab\", sep=\"/\"),\n",
    "                            isites_in=paste(\"..\", \"data\", design, paste0(replicate, \"-in.isites.gff3.gz\"), sep=\"/\"),\n",
    "                            isites_out=paste(\"..\", \"data\", design, paste0(replicate, \"-out.isites.gff3.gz\"), sep=\"/\"),\n",
    "                            pool_in_5p=paste(\"..\", \"data\", design, paste0(replicate, \"-in+5p.count.tab\"), sep=\"/\"),\n",
    "                            pool_in_3p=paste(\"..\", \"data\", design, paste0(replicate, \"-in+3p.count.tab\"), sep=\"/\"),\n",
    "                            pool_out_5p=paste(\"..\", \"data\", design, paste0(replicate, \"-out+5p.count.tab\"), sep=\"/\"),\n",
    "                            pool_out_3p=paste(\"..\", \"data\", design, paste0(replicate, \"-out+3p.count.tab\"), sep=\"/\"),\n",
    "                            stats_in_5p=paste(\"..\", \"data\", design, paste0(replicate, \"-in+5p.stats.tab\"), sep=\"/\"),\n",
    "                            stats_in_3p=paste(\"..\", \"data\", design, paste0(replicate, \"-in+3p.stats.tab\"), sep=\"/\"),\n",
    "                            stats_out_5p=paste(\"..\", \"data\", design, paste0(replicate, \"-out+5p.stats.tab\"), sep=\"/\"),\n",
    "                            stats_out_3p=paste(\"..\", \"data\", design, paste0(replicate, \"-out+3p.stats.tab\"), sep=\"/\"),\n",
    "                            trumicount_pdf_in_5p=paste(\"..\", \"data\", design, paste0(replicate, \"-in+5p.count.pdf\"), sep=\"/\"),\n",
    "                            trumicount_pdf_in_3p=paste(\"..\", \"data\", design, paste0(replicate, \"-in+3p.count.pdf\"), sep=\"/\"),\n",
    "                            trumicount_pdf_out_5p=paste(\"..\", \"data\", design, paste0(replicate, \"-out+5p.count.pdf\"), sep=\"/\"),\n",
    "                            trumicount_pdf_out_3p=paste(\"..\", \"data\", design, paste0(replicate, \"-out+3p.count.pdf\"), sep=\"/\"),\n",
    "                            fastqc_html_in_5p_r1=paste(\"..\", \"data\", design, paste0(replicate, \"-in+5p.fastqc.1.html\"), sep=\"/\"),\n",
    "                            fastqc_html_in_5p_r2=paste(\"..\", \"data\", design, paste0(replicate, \"-in+5p.fastqc.2.html\"), sep=\"/\"),\n",
    "                            fastqc_html_in_3p_r1=paste(\"..\", \"data\", design, paste0(replicate, \"-in+3p.fastqc.1.html\"), sep=\"/\"),\n",
    "                            fastqc_html_in_3p_r2=paste(\"..\", \"data\", design, paste0(replicate, \"-in+3p.fastqc.2.html\"), sep=\"/\"),\n",
    "                            fastqc_html_out_5p_r1=paste(\"..\", \"data\", design, paste0(replicate, \"-out+5p.fastqc.1.html\"), sep=\"/\"),\n",
    "                            fastqc_html_out_5p_r2=paste(\"..\", \"data\", design, paste0(replicate, \"-out+5p.fastqc.2.html\"), sep=\"/\"),\n",
    "                            fastqc_html_out_3p_r1=paste(\"..\", \"data\", design, paste0(replicate, \"-out+3p.fastqc.1.html\"), sep=\"/\"),\n",
    "                            fastqc_html_out_3p_r2=paste(\"..\", \"data\", design, paste0(replicate, \"-out+3p.fastqc.2.html\"), sep=\"/\")),\n",
    "                 params=list(version=local({f <- file(\"../VERSION\", \"r\"); v <- readLines(f, n=1); close(f); v}),\n",
    "                             dir=design, exp=replicate),\n",
    "                 output=list(table=paste(\"..\", \"data\", design, paste0(replicate, \"dv.tab\"), sep=\"/\")))"
   ]
  },
  {
   "cell_type": "code",
   "execution_count": 7,
   "id": "d44de63b-fbcf-4061-a27c-7d4b17462ab9",
   "metadata": {
    "collapsed": true,
    "jupyter": {
     "outputs_hidden": true
    },
    "tags": []
   },
   "outputs": [
    {
     "data": {
      "text/plain": [
       "An object of class \"SnakemakeStub\"\n",
       "Slot \"input\":\n",
       "$ann\n",
       "[1] \"../cfg/Transposon.v2/annotation.gff3.gz\"\n",
       "\n",
       "$essential\n",
       "[1] \"../cfg/Transposon.v2/essential.tab\"\n",
       "\n",
       "$isites_in\n",
       "[1] \"../data/Transposon.v2/Exp1-in.isites.gff3.gz\"\n",
       "\n",
       "$isites_out\n",
       "[1] \"../data/Transposon.v2/Exp1-out.isites.gff3.gz\"\n",
       "\n",
       "$pool_in_5p\n",
       "[1] \"../data/Transposon.v2/Exp1-in+5p.count.tab\"\n",
       "\n",
       "$pool_in_3p\n",
       "[1] \"../data/Transposon.v2/Exp1-in+3p.count.tab\"\n",
       "\n",
       "$pool_out_5p\n",
       "[1] \"../data/Transposon.v2/Exp1-out+5p.count.tab\"\n",
       "\n",
       "$pool_out_3p\n",
       "[1] \"../data/Transposon.v2/Exp1-out+3p.count.tab\"\n",
       "\n",
       "$stats_in_5p\n",
       "[1] \"../data/Transposon.v2/Exp1-in+5p.stats.tab\"\n",
       "\n",
       "$stats_in_3p\n",
       "[1] \"../data/Transposon.v2/Exp1-in+3p.stats.tab\"\n",
       "\n",
       "$stats_out_5p\n",
       "[1] \"../data/Transposon.v2/Exp1-out+5p.stats.tab\"\n",
       "\n",
       "$stats_out_3p\n",
       "[1] \"../data/Transposon.v2/Exp1-out+3p.stats.tab\"\n",
       "\n",
       "$trumicount_pdf_in_5p\n",
       "[1] \"../data/Transposon.v2/Exp1-in+5p.count.pdf\"\n",
       "\n",
       "$trumicount_pdf_in_3p\n",
       "[1] \"../data/Transposon.v2/Exp1-in+3p.count.pdf\"\n",
       "\n",
       "$trumicount_pdf_out_5p\n",
       "[1] \"../data/Transposon.v2/Exp1-out+5p.count.pdf\"\n",
       "\n",
       "$trumicount_pdf_out_3p\n",
       "[1] \"../data/Transposon.v2/Exp1-out+3p.count.pdf\"\n",
       "\n",
       "$fastqc_html_in_5p_r1\n",
       "[1] \"../data/Transposon.v2/Exp1-in+5p.fastqc.1.html\"\n",
       "\n",
       "$fastqc_html_in_5p_r2\n",
       "[1] \"../data/Transposon.v2/Exp1-in+5p.fastqc.2.html\"\n",
       "\n",
       "$fastqc_html_in_3p_r1\n",
       "[1] \"../data/Transposon.v2/Exp1-in+3p.fastqc.1.html\"\n",
       "\n",
       "$fastqc_html_in_3p_r2\n",
       "[1] \"../data/Transposon.v2/Exp1-in+3p.fastqc.2.html\"\n",
       "\n",
       "$fastqc_html_out_5p_r1\n",
       "[1] \"../data/Transposon.v2/Exp1-out+5p.fastqc.1.html\"\n",
       "\n",
       "$fastqc_html_out_5p_r2\n",
       "[1] \"../data/Transposon.v2/Exp1-out+5p.fastqc.2.html\"\n",
       "\n",
       "$fastqc_html_out_3p_r1\n",
       "[1] \"../data/Transposon.v2/Exp1-out+3p.fastqc.1.html\"\n",
       "\n",
       "$fastqc_html_out_3p_r2\n",
       "[1] \"../data/Transposon.v2/Exp1-out+3p.fastqc.2.html\"\n",
       "\n",
       "\n",
       "Slot \"params\":\n",
       "$version\n",
       "[1] \"transposon-0.2\"\n",
       "\n",
       "$dir\n",
       "[1] \"Transposon.v2\"\n",
       "\n",
       "$exp\n",
       "[1] \"Exp1\"\n",
       "\n",
       "\n",
       "Slot \"output\":\n",
       "$table\n",
       "[1] \"../data/Transposon.v2/Exp1dv.tab\"\n",
       "\n"
      ]
     },
     "metadata": {},
     "output_type": "display_data"
    }
   ],
   "source": [
    "snakemake"
   ]
  },
  {
   "cell_type": "code",
   "execution_count": 10,
   "id": "7412ebc5-2884-485c-b80b-7a29c50da471",
   "metadata": {},
   "outputs": [],
   "source": [
    "# Load output libraries\n",
    "library(knitr)\n",
    "library(rmdformats)\n",
    "\n",
    "# Load libraries\n",
    "library(data.table)\n",
    "library(DT)\n",
    "library(rtracklayer)\n",
    "library(plotly)\n",
    "source(\"../scripts/ipoolseq.model.R\")\n",
    "\n",
    "# Output '-' for NA values\n",
    "options(knitr.kable.NA = '-')\n",
    "\n",
    "# Set FDR to 5%\n",
    "PLOT.FDR.THRESHOLD <- 0.05\n",
    "\n",
    "# Convert a p-value into a significance marker\n",
    "sig.stars <- function(p) {\n",
    "  pp <- ifelse((p > 0) & (p < 1), p, 0.5)\n",
    "  ifelse(!is.finite(p) | (p < 0) | (p > 1), \"?\",\n",
    "         ifelse(p > 0.1, \" \",\n",
    "                ifelse(p > 0.05, \"+\",\n",
    "                       ifelse(p == 0, \"*****\",\n",
    "                              strrep(\"*\", pmin(ceiling(-log10(pp)*(1+.Machine$double.eps))-1, 5))))))\n",
    "}\n"
   ]
  },
  {
   "cell_type": "code",
   "execution_count": 11,
   "id": "6de9068c-594e-495b-9f81-2785fe3347fb",
   "metadata": {},
   "outputs": [],
   "source": [
    "# Create a Markdown link\n",
    "make_link <- function(path, text) {\n",
    "  paste0('[', if(missing(text)) path else text, '](', URLencode(path, reserved=TRUE), ')')\n",
    "}\n",
    "\n",
    "# Correlation with zero intercept\n",
    "cor.intercept0 <- function(x, y) {\n",
    "  i <- !is.na(x) & !is.na(y)\n",
    "  k <- sum(x[i] * y[i]) / sum(x[i]**2)\n",
    "  r.sq <- 1 - sum((y[i] - k*x[i])**2) / sum((y[i] - mean(y[i]))**2)\n",
    "  sqrt(r.sq)\n",
    "}\n"
   ]
  },
  {
   "cell_type": "code",
   "execution_count": 14,
   "id": "2570c4d9-07ee-4f5d-afee-b32b0acffd17",
   "metadata": {},
   "outputs": [
    {
     "name": "stderr",
     "output_type": "stream",
     "text": [
      "Loading gene annotations from ../cfg/Transposon.v2/annotation.gff3.gz\n",
      "\n",
      "Loading insertion sites from ../data/Transposon.v2/Exp1-in.isites.gff3.gz\n",
      "\n"
     ]
    }
   ],
   "source": [
    "# Loading gene annotation\n",
    "message(\"Loading gene annotations from \", snakemake_input_ann)\n",
    "annotations <- readGFFAsGRanges(snakemake_input_ann, version=3)\n",
    "genes <- annotations[annotations$type==\"gene\"]\n",
    "\n",
    "# Mark essential genes with Essential=TRUE\n",
    "essential <- read.table(snakemake_input_essential, header=TRUE)\n",
    "genes$Essential <- mcols(genes)[[colnames(essential)[1]]] %in% essential[[1]]\n",
    "\n",
    "# Load list of mutants, find assumed neutral set\n",
    "message(\"Loading insertion sites from \", snakemake@input$isites_in)\n",
    "mutants <- readGFFAsGRanges(snakemake@input$isites_in, version=3)\n",
    "# Assign mutants to genes\n",
    "local({\n",
    "  hits <- findOverlaps(mutants, genes, ignore.strand=TRUE)\n",
    "  mutants$GeneIndex <<- NA_integer_\n",
    "  mutants$GeneIndex[queryHits(hits)] <<- subjectHits(hits)\n",
    "})\n",
    "# Mark mutants not assigned to genes as neutral\n",
    "mutants$Neutral <- ifelse(is.na(mutants$GeneIndex), 1, 0)\n",
    "\n",
    "# Find neutral mutants!\n",
    "NEUTRAL <- mutants$Name[mutants$Neutral == 1]\n"
   ]
  },
  {
   "cell_type": "code",
   "execution_count": 15,
   "id": "c485f16f-f850-4c94-a7d5-2d7affe70ed7",
   "metadata": {},
   "outputs": [
    {
     "name": "stderr",
     "output_type": "stream",
     "text": [
      "Loading TRUmiCount results from ../data/Transposon.v2/Exp1-in+5p.count.tab\n",
      "\n",
      "Loading TRUmiCount results from ../data/Transposon.v2/Exp1-in+3p.count.tab\n",
      "\n",
      "Loading TRUmiCount results from ../data/Transposon.v2/Exp1-out+5p.count.tab\n",
      "\n",
      "Loading TRUmiCount results from ../data/Transposon.v2/Exp1-out+3p.count.tab\n",
      "\n"
     ]
    }
   ],
   "source": [
    "# Load UMI count tables produced by TRUmiCount\n",
    "# Note that TRUmiCount thinks in terms of RNA-Seq and calls whatever key it used\n",
    "# to group and count reads a \"gene\". In our case that key is the cassette insertion\n",
    "# site, which is therefore stored in the column \"gene\" in TRUmiCount's output.\n",
    "load.trumicount.output <- function(file, flank) {\n",
    "  message(\"Loading TRUmiCount results from \", file)\n",
    "  t <- data.table(read.table(file, header=TRUE, sep='\\t'))\n",
    "  # Rename column \"gene\" to \"mutant\"\n",
    "  colnames(t) <- ifelse(colnames(t) == \"gene\", \"mutant\", colnames(t))\n",
    "  # Make sure there is exactly one row per mutant and add flank\n",
    "  allKOs <- data.table(mutant=mutants$Name)\n",
    "  t <- t[allKOs,, on=\"mutant\"]\n",
    "  t[, flank := flank ]\n",
    "}\n",
    "counts.flank.in.5p <- load.trumicount.output(snakemake@input[[\"pool_in_5p\"]], \"5p\")\n",
    "counts.flank.in.3p <- load.trumicount.output(snakemake@input[[\"pool_in_3p\"]], \"3p\")\n",
    "counts.flank.out.5p <- load.trumicount.output(snakemake@input[[\"pool_out_5p\"]], \"5p\")\n",
    "counts.flank.out.3p <- load.trumicount.output(snakemake@input[[\"pool_out_3p\"]], \"3p\")\n",
    "\n",
    "# Combine 5' and 3' data into a single table\n",
    "counts.flank.in <- rbind(counts.flank.in.5p, counts.flank.in.3p)\n",
    "counts.flank.out <- rbind(counts.flank.out.5p, counts.flank.out.3p)\n",
    "\n",
    "# Function to combine flank-specific data horizontally\n",
    "join.flanks.as.columns <- function(data) {\n",
    "  data[, list(n5p=n.obs[flank==\"5p\"],\n",
    "              l5p=loss[flank==\"5p\"],\n",
    "              n3p=n.obs[flank==\"3p\"],\n",
    "              l3p=loss[flank==\"3p\"])\n",
    "       , by=\"mutant\"]\n",
    "}\n"
   ]
  },
  {
   "cell_type": "code",
   "execution_count": 16,
   "id": "c5b7a83d-77b2-4e5f-acc3-5c6f945ed1ca",
   "metadata": {},
   "outputs": [],
   "source": [
    "# Aggregate the data for the 5' and 3' flank of each gene.\n",
    "# We add the counts and average the losses of the two flanks for each gene,.\n",
    "# We also remember how many flanks were detected for every mutant, so that\n",
    "# we can later avoid biasing against mutants where some flank is not detecable\n",
    "# e.g. due to low mapping qualities\n",
    "aggregate.flanks <- function(counts.flank) {\n",
    "  counts.flank[, list(\n",
    "    n = sum(n.obs, na.rm=TRUE),\n",
    "    flanks = sum(n.obs > 0, na.rm=TRUE),\n",
    "    loss = mean(loss, na.rm=TRUE)\n",
    "  ), by=\"mutant\"]\n",
    "}\n",
    "counts.in <- aggregate.flanks(counts.flank.in)\n",
    "counts.out <- aggregate.flanks(counts.flank.out)\n",
    "\n",
    "# Combine input and output pool data into a single table\n",
    "counts <- merge(counts.in, counts.out, by=\"mutant\", suffixes=c(\".in\", \".out\"))[, {\n",
    "  flanks <- pmax(flanks.in, flanks.out, 0, na.rm=TRUE)\n",
    "  list(mutant,\n",
    "       is.neutral=mutant %in% NEUTRAL,\n",
    "       gene=NA_integer_,\n",
    "       n.in, loss.in,\n",
    "       n.out, loss.out,\n",
    "       flanks=flanks,\n",
    "       abundance.in=ifelse(n.in > 0, n.in / (flanks * (1-loss.in)), 0),\n",
    "       abundance.out=ifelse(n.out > 0, n.out / (flanks * (1-loss.out)), 0)\n",
    ")}]\n"
   ]
  },
  {
   "cell_type": "code",
   "execution_count": 27,
   "id": "3ba9e0a6-03af-461b-b2a6-d3ca92962809",
   "metadata": {},
   "outputs": [
    {
     "data": {
      "text/html": [
       "<table class=\"dataframe\">\n",
       "<caption>A data.table: 6 × 4</caption>\n",
       "<thead>\n",
       "\t<tr><th scope=col>mutant</th><th scope=col>n</th><th scope=col>flanks</th><th scope=col>loss</th></tr>\n",
       "\t<tr><th scope=col>&lt;chr&gt;</th><th scope=col>&lt;int&gt;</th><th scope=col>&lt;int&gt;</th><th scope=col>&lt;dbl&gt;</th></tr>\n",
       "</thead>\n",
       "<tbody>\n",
       "\t<tr><td>NC_026478.1|Chr01:4003(-) </td><td>45</td><td>2</td><td>0.2020</td></tr>\n",
       "\t<tr><td>NC_026478.1|Chr01:4216(-) </td><td>13</td><td>2</td><td>0.1975</td></tr>\n",
       "\t<tr><td>NC_026478.1|Chr01:9179(-) </td><td> 0</td><td>0</td><td>   NaN</td></tr>\n",
       "\t<tr><td>NC_026478.1|Chr01:9282(-) </td><td> 0</td><td>0</td><td>   NaN</td></tr>\n",
       "\t<tr><td>NC_026478.1|Chr01:9282(+) </td><td> 0</td><td>0</td><td>   NaN</td></tr>\n",
       "\t<tr><td>NC_026478.1|Chr01:33155(-)</td><td>92</td><td>2</td><td>0.1925</td></tr>\n",
       "</tbody>\n",
       "</table>\n"
      ],
      "text/latex": [
       "A data.table: 6 × 4\n",
       "\\begin{tabular}{llll}\n",
       " mutant & n & flanks & loss\\\\\n",
       " <chr> & <int> & <int> & <dbl>\\\\\n",
       "\\hline\n",
       "\t NC\\_026478.1\\textbar{}Chr01:4003(-)  & 45 & 2 & 0.2020\\\\\n",
       "\t NC\\_026478.1\\textbar{}Chr01:4216(-)  & 13 & 2 & 0.1975\\\\\n",
       "\t NC\\_026478.1\\textbar{}Chr01:9179(-)  &  0 & 0 &    NaN\\\\\n",
       "\t NC\\_026478.1\\textbar{}Chr01:9282(-)  &  0 & 0 &    NaN\\\\\n",
       "\t NC\\_026478.1\\textbar{}Chr01:9282(+)  &  0 & 0 &    NaN\\\\\n",
       "\t NC\\_026478.1\\textbar{}Chr01:33155(-) & 92 & 2 & 0.1925\\\\\n",
       "\\end{tabular}\n"
      ],
      "text/markdown": [
       "\n",
       "A data.table: 6 × 4\n",
       "\n",
       "| mutant &lt;chr&gt; | n &lt;int&gt; | flanks &lt;int&gt; | loss &lt;dbl&gt; |\n",
       "|---|---|---|---|\n",
       "| NC_026478.1|Chr01:4003(-)  | 45 | 2 | 0.2020 |\n",
       "| NC_026478.1|Chr01:4216(-)  | 13 | 2 | 0.1975 |\n",
       "| NC_026478.1|Chr01:9179(-)  |  0 | 0 |    NaN |\n",
       "| NC_026478.1|Chr01:9282(-)  |  0 | 0 |    NaN |\n",
       "| NC_026478.1|Chr01:9282(+)  |  0 | 0 |    NaN |\n",
       "| NC_026478.1|Chr01:33155(-) | 92 | 2 | 0.1925 |\n",
       "\n"
      ],
      "text/plain": [
       "  mutant                     n  flanks loss  \n",
       "1 NC_026478.1|Chr01:4003(-)  45 2      0.2020\n",
       "2 NC_026478.1|Chr01:4216(-)  13 2      0.1975\n",
       "3 NC_026478.1|Chr01:9179(-)   0 0         NaN\n",
       "4 NC_026478.1|Chr01:9282(-)   0 0         NaN\n",
       "5 NC_026478.1|Chr01:9282(+)   0 0         NaN\n",
       "6 NC_026478.1|Chr01:33155(-) 92 2      0.1925"
      ]
     },
     "metadata": {},
     "output_type": "display_data"
    },
    {
     "data": {
      "text/html": [
       "<table class=\"dataframe\">\n",
       "<caption>A data.table: 6 × 4</caption>\n",
       "<thead>\n",
       "\t<tr><th scope=col>mutant</th><th scope=col>n</th><th scope=col>flanks</th><th scope=col>loss</th></tr>\n",
       "\t<tr><th scope=col>&lt;chr&gt;</th><th scope=col>&lt;int&gt;</th><th scope=col>&lt;int&gt;</th><th scope=col>&lt;dbl&gt;</th></tr>\n",
       "</thead>\n",
       "<tbody>\n",
       "\t<tr><td>NC_026478.1|Chr01:4003(-) </td><td> 3</td><td>2</td><td>0.3315</td></tr>\n",
       "\t<tr><td>NC_026478.1|Chr01:4216(-) </td><td>14</td><td>2</td><td>0.3340</td></tr>\n",
       "\t<tr><td>NC_026478.1|Chr01:9179(-) </td><td> 0</td><td>0</td><td>   NaN</td></tr>\n",
       "\t<tr><td>NC_026478.1|Chr01:9282(-) </td><td> 0</td><td>0</td><td>   NaN</td></tr>\n",
       "\t<tr><td>NC_026478.1|Chr01:9282(+) </td><td> 0</td><td>0</td><td>   NaN</td></tr>\n",
       "\t<tr><td>NC_026478.1|Chr01:33155(-)</td><td>75</td><td>2</td><td>0.3270</td></tr>\n",
       "</tbody>\n",
       "</table>\n"
      ],
      "text/latex": [
       "A data.table: 6 × 4\n",
       "\\begin{tabular}{llll}\n",
       " mutant & n & flanks & loss\\\\\n",
       " <chr> & <int> & <int> & <dbl>\\\\\n",
       "\\hline\n",
       "\t NC\\_026478.1\\textbar{}Chr01:4003(-)  &  3 & 2 & 0.3315\\\\\n",
       "\t NC\\_026478.1\\textbar{}Chr01:4216(-)  & 14 & 2 & 0.3340\\\\\n",
       "\t NC\\_026478.1\\textbar{}Chr01:9179(-)  &  0 & 0 &    NaN\\\\\n",
       "\t NC\\_026478.1\\textbar{}Chr01:9282(-)  &  0 & 0 &    NaN\\\\\n",
       "\t NC\\_026478.1\\textbar{}Chr01:9282(+)  &  0 & 0 &    NaN\\\\\n",
       "\t NC\\_026478.1\\textbar{}Chr01:33155(-) & 75 & 2 & 0.3270\\\\\n",
       "\\end{tabular}\n"
      ],
      "text/markdown": [
       "\n",
       "A data.table: 6 × 4\n",
       "\n",
       "| mutant &lt;chr&gt; | n &lt;int&gt; | flanks &lt;int&gt; | loss &lt;dbl&gt; |\n",
       "|---|---|---|---|\n",
       "| NC_026478.1|Chr01:4003(-)  |  3 | 2 | 0.3315 |\n",
       "| NC_026478.1|Chr01:4216(-)  | 14 | 2 | 0.3340 |\n",
       "| NC_026478.1|Chr01:9179(-)  |  0 | 0 |    NaN |\n",
       "| NC_026478.1|Chr01:9282(-)  |  0 | 0 |    NaN |\n",
       "| NC_026478.1|Chr01:9282(+)  |  0 | 0 |    NaN |\n",
       "| NC_026478.1|Chr01:33155(-) | 75 | 2 | 0.3270 |\n",
       "\n"
      ],
      "text/plain": [
       "  mutant                     n  flanks loss  \n",
       "1 NC_026478.1|Chr01:4003(-)   3 2      0.3315\n",
       "2 NC_026478.1|Chr01:4216(-)  14 2      0.3340\n",
       "3 NC_026478.1|Chr01:9179(-)   0 0         NaN\n",
       "4 NC_026478.1|Chr01:9282(-)   0 0         NaN\n",
       "5 NC_026478.1|Chr01:9282(+)   0 0         NaN\n",
       "6 NC_026478.1|Chr01:33155(-) 75 2      0.3270"
      ]
     },
     "metadata": {},
     "output_type": "display_data"
    }
   ],
   "source": [
    "head(counts.in)\n",
    "head(counts.out)"
   ]
  },
  {
   "cell_type": "code",
   "execution_count": 17,
   "id": "6cddd710-5c77-459e-b23f-eca853f56b4f",
   "metadata": {},
   "outputs": [
    {
     "data": {
      "text/plain": [
       "NULL"
      ]
     },
     "metadata": {},
     "output_type": "display_data"
    },
    {
     "data": {
      "text/plain": [
       "NULL"
      ]
     },
     "metadata": {},
     "output_type": "display_data"
    }
   ],
   "source": [
    "counts[, stopifnot(is.na(n.in) == is.na(abundance.in)) ]\n",
    "counts[, stopifnot(is.na(n.out) == is.na(abundance.out)) ]"
   ]
  },
  {
   "cell_type": "code",
   "execution_count": 20,
   "id": "3e28db70-c752-4dfb-b43c-7aac548ddf1c",
   "metadata": {},
   "outputs": [
    {
     "data": {
      "text/html": [
       "<table class=\"dataframe\">\n",
       "<caption>A data.table: 6 × 2</caption>\n",
       "<thead>\n",
       "\t<tr><th scope=col>mutant</th><th scope=col>gene</th></tr>\n",
       "\t<tr><th scope=col>&lt;chr&gt;</th><th scope=col>&lt;int&gt;</th></tr>\n",
       "</thead>\n",
       "<tbody>\n",
       "\t<tr><td>NC_026478.1|Chr01:4003(-) </td><td> 2</td></tr>\n",
       "\t<tr><td>NC_026478.1|Chr01:4216(-) </td><td> 3</td></tr>\n",
       "\t<tr><td>NC_026478.1|Chr01:9179(-) </td><td>NA</td></tr>\n",
       "\t<tr><td>NC_026478.1|Chr01:9282(-) </td><td>NA</td></tr>\n",
       "\t<tr><td>NC_026478.1|Chr01:9282(+) </td><td>NA</td></tr>\n",
       "\t<tr><td>NC_026478.1|Chr01:33155(-)</td><td>NA</td></tr>\n",
       "</tbody>\n",
       "</table>\n"
      ],
      "text/latex": [
       "A data.table: 6 × 2\n",
       "\\begin{tabular}{ll}\n",
       " mutant & gene\\\\\n",
       " <chr> & <int>\\\\\n",
       "\\hline\n",
       "\t NC\\_026478.1\\textbar{}Chr01:4003(-)  &  2\\\\\n",
       "\t NC\\_026478.1\\textbar{}Chr01:4216(-)  &  3\\\\\n",
       "\t NC\\_026478.1\\textbar{}Chr01:9179(-)  & NA\\\\\n",
       "\t NC\\_026478.1\\textbar{}Chr01:9282(-)  & NA\\\\\n",
       "\t NC\\_026478.1\\textbar{}Chr01:9282(+)  & NA\\\\\n",
       "\t NC\\_026478.1\\textbar{}Chr01:33155(-) & NA\\\\\n",
       "\\end{tabular}\n"
      ],
      "text/markdown": [
       "\n",
       "A data.table: 6 × 2\n",
       "\n",
       "| mutant &lt;chr&gt; | gene &lt;int&gt; |\n",
       "|---|---|\n",
       "| NC_026478.1|Chr01:4003(-)  |  2 |\n",
       "| NC_026478.1|Chr01:4216(-)  |  3 |\n",
       "| NC_026478.1|Chr01:9179(-)  | NA |\n",
       "| NC_026478.1|Chr01:9282(-)  | NA |\n",
       "| NC_026478.1|Chr01:9282(+)  | NA |\n",
       "| NC_026478.1|Chr01:33155(-) | NA |\n",
       "\n"
      ],
      "text/plain": [
       "  mutant                     gene\n",
       "1 NC_026478.1|Chr01:4003(-)   2  \n",
       "2 NC_026478.1|Chr01:4216(-)   3  \n",
       "3 NC_026478.1|Chr01:9179(-)  NA  \n",
       "4 NC_026478.1|Chr01:9282(-)  NA  \n",
       "5 NC_026478.1|Chr01:9282(+)  NA  \n",
       "6 NC_026478.1|Chr01:33155(-) NA  "
      ]
     },
     "metadata": {},
     "output_type": "display_data"
    }
   ],
   "source": [
    "# Fill in index of the gene (if any) affected by a mutant\n",
    "mutant_gene <- data.table(mutant=mutants$Name, gene=mutants$GeneIndex)\n",
    "counts[, \"gene\" := mutant_gene[counts, gene, on=c(\"mutant\")] ]\n",
    "head(mutant_gene)"
   ]
  },
  {
   "cell_type": "code",
   "execution_count": null,
   "id": "7b0879e5-e07a-45f7-ac13-44f2cdf0d194",
   "metadata": {},
   "outputs": [],
   "source": [
    "###skipping many of the outputs in the report"
   ]
  },
  {
   "cell_type": "markdown",
   "id": "3f6ccf53-12d1-4372-ba3a-9225e81fdf38",
   "metadata": {},
   "source": [
    "## Correlation of Input and Output Abundances"
   ]
  },
  {
   "cell_type": "code",
   "execution_count": 22,
   "id": "3e1ac125-839e-40ac-95a4-8bcb90148fef",
   "metadata": {},
   "outputs": [
    {
     "name": "stderr",
     "output_type": "stream",
     "text": [
      "Warning message in sqrt(r.sq):\n",
      "“NaNs produced”\n"
     ]
    },
    {
     "data": {
      "text/html": [
       "NaN"
      ],
      "text/latex": [
       "NaN"
      ],
      "text/markdown": [
       "NaN"
      ],
      "text/plain": [
       "[1] NaN"
      ]
     },
     "metadata": {},
     "output_type": "display_data"
    },
    {
     "name": "stderr",
     "output_type": "stream",
     "text": [
      "Warning message in sqrt(r.sq):\n",
      "“NaNs produced”\n"
     ]
    },
    {
     "data": {
      "text/html": [
       "NaN"
      ],
      "text/latex": [
       "NaN"
      ],
      "text/markdown": [
       "NaN"
      ],
      "text/plain": [
       "[1] NaN"
      ]
     },
     "metadata": {},
     "output_type": "display_data"
    }
   ],
   "source": [
    "counts[, cor.intercept0(sqrt(n.in), sqrt(n.out))]\n",
    "counts[, cor.intercept0(sqrt(abundance.in), sqrt(abundance.out))]"
   ]
  },
  {
   "cell_type": "code",
   "execution_count": 39,
   "id": "298498b2-7744-4f74-8262-9f93ce3b07bf",
   "metadata": {},
   "outputs": [
    {
     "data": {
      "text/html": [
       "0.301234844864574"
      ],
      "text/latex": [
       "0.301234844864574"
      ],
      "text/markdown": [
       "0.301234844864574"
      ],
      "text/plain": [
       "[1] 0.3012348"
      ]
     },
     "metadata": {},
     "output_type": "display_data"
    }
   ],
   "source": [
    "counts[, cor.intercept0(sqrt(n.in), sqrt(n.out))]"
   ]
  },
  {
   "cell_type": "code",
   "execution_count": 52,
   "id": "65d17af5-9e7e-41a6-a7ac-034536677dac",
   "metadata": {},
   "outputs": [
    {
     "data": {
      "text/html": [
       "0.817588186109656"
      ],
      "text/latex": [
       "0.817588186109656"
      ],
      "text/markdown": [
       "0.817588186109656"
      ],
      "text/plain": [
       "[1] 0.8175882"
      ]
     },
     "metadata": {},
     "output_type": "display_data"
    }
   ],
   "source": [
    "cor.intercept0(c(1,2,3), c(4,5,22))"
   ]
  },
  {
   "cell_type": "code",
   "execution_count": 62,
   "id": "3eefb946-c118-4e4e-90a0-16b9e0cd8b3f",
   "metadata": {},
   "outputs": [],
   "source": [
    "my_cor.intercept0 <- function (x, y) \n",
    "{\n",
    "    i <- !is.na(x) & !is.na(y)\n",
    "    k <- sum(x[i] * y[i])/sum(x[i]^2)\n",
    "    r.sq <- 1 - sum((y[i] - k * x[i])^2)/sum((y[i] - mean(y[i]))^2)\n",
    "    r.sq\n",
    "#    sqrt(r.sq)\n",
    "}"
   ]
  },
  {
   "cell_type": "code",
   "execution_count": 63,
   "id": "c10ea6c1-3aa5-47aa-b5ad-53d411e5348a",
   "metadata": {},
   "outputs": [
    {
     "data": {
      "text/html": [
       "-0.0141226363752924"
      ],
      "text/latex": [
       "-0.0141226363752924"
      ],
      "text/markdown": [
       "-0.0141226363752924"
      ],
      "text/plain": [
       "[1] -0.01412264"
      ]
     },
     "metadata": {},
     "output_type": "display_data"
    }
   ],
   "source": [
    "my_cor.intercept0(\n",
    "    counts[, sqrt(n.in)],\n",
    "    counts[, sqrt(n.out)]\n",
    "    )"
   ]
  },
  {
   "cell_type": "code",
   "execution_count": null,
   "id": "6450c03e-0e98-4323-800d-914a6e960d4c",
   "metadata": {},
   "outputs": [],
   "source": [
    "#so that means that we get \"-\" if there is in fact negative relationship"
   ]
  }
 ],
 "metadata": {
  "kernelspec": {
   "display_name": "R",
   "language": "R",
   "name": "ir"
  },
  "language_info": {
   "codemirror_mode": "r",
   "file_extension": ".r",
   "mimetype": "text/x-r-source",
   "name": "R",
   "pygments_lexer": "r",
   "version": "4.1.3"
  }
 },
 "nbformat": 4,
 "nbformat_minor": 5
}
